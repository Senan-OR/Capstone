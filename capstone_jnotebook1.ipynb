{
 "cells": [
  {
   "cell_type": "code",
   "execution_count": 26,
   "metadata": {},
   "outputs": [],
   "source": [
    "import numpy as np\n",
    "import pandas as pd\n",
    "import matplotlib.pyplot as plt\n",
    "from os import listdir"
   ]
  },
  {
   "cell_type": "code",
   "execution_count": 2,
   "metadata": {},
   "outputs": [],
   "source": [
    "#pip install ztfidr"
   ]
  },
  {
   "cell_type": "code",
   "execution_count": 3,
   "metadata": {},
   "outputs": [],
   "source": [
    "#import ztfidr"
   ]
  },
  {
   "cell_type": "code",
   "execution_count": 4,
   "metadata": {},
   "outputs": [],
   "source": [
    "#sample = open(\"C:\\Users\\senan\\OneDrive\\Desktop\\Capstone\\ztfcosmoidr\\dr2\\spectra\\ZTF18aasrsst_20180505_NTT_0.ascii\",'r')"
   ]
  },
  {
   "cell_type": "code",
   "execution_count": 5,
   "metadata": {},
   "outputs": [],
   "source": [
    "table = pd.read_csv(r\"C:\\Users\\senan\\OneDrive\\Desktop\\Capstone\\ztfcosmoidr\\dr2\\tables\\ztfdr2_salt2_params.csv\")"
   ]
  },
  {
   "cell_type": "code",
   "execution_count": 6,
   "metadata": {},
   "outputs": [],
   "source": [
    "ztfname = np.array(table['ztfname'])\n",
    "z = np.array(table['z'])\n",
    "z_err = np.array(table['z_err'])\n",
    "x1 = np.array(table['x1'])"
   ]
  },
  {
   "cell_type": "code",
   "execution_count": 7,
   "metadata": {},
   "outputs": [],
   "source": [
    "x1_filtered_list = []\n",
    "ztfname_filtered_list = []\n",
    "z_filtered_list = []\n",
    "z_err_filtered_list = []\n",
    "for i in range(len(x1)):\n",
    "    if x1[i] <= -1.5:\n",
    "        x1_filtered_list.append(x1[i])\n",
    "        ztfname_filtered_list.append(ztfname[i])\n",
    "        z_filtered_list.append(z[i])\n",
    "        z_err_filtered_list.append(z_err[i])\n"
   ]
  },
  {
   "cell_type": "code",
   "execution_count": 10,
   "metadata": {},
   "outputs": [
    {
     "name": "stdout",
     "output_type": "stream",
     "text": [
      "503 503 503 503\n",
      "-1.50182063\n",
      "ZTF18aaapivw\n"
     ]
    }
   ],
   "source": [
    "print(len(x1_filtered_list),len(ztfname_filtered_list),len(z_filtered_list),len(z_err_filtered_list))\n",
    "print(max(x1_filtered_list))\n",
    "print(ztfname_filtered_list[0])"
   ]
  },
  {
   "cell_type": "code",
   "execution_count": 11,
   "metadata": {},
   "outputs": [
    {
     "ename": "IndexError",
     "evalue": "single positional indexer is out-of-bounds",
     "output_type": "error",
     "traceback": [
      "\u001b[1;31m---------------------------------------------------------------------------\u001b[0m",
      "\u001b[1;31mIndexError\u001b[0m                                Traceback (most recent call last)",
      "Cell \u001b[1;32mIn[11], line 2\u001b[0m\n\u001b[0;32m      1\u001b[0m \u001b[38;5;28;01mimport\u001b[39;00m \u001b[38;5;21;01mztfidr\u001b[39;00m\n\u001b[1;32m----> 2\u001b[0m sample \u001b[38;5;241m=\u001b[39m ztfidr\u001b[38;5;241m.\u001b[39mio\u001b[38;5;241m.\u001b[39mget_spectra_datafile(\u001b[38;5;124m'\u001b[39m\u001b[38;5;124mZTF18aaapivw\u001b[39m\u001b[38;5;124m'\u001b[39m)\n",
      "File \u001b[1;32mc:\\Users\\senan\\OneDrive\\Desktop\\Capstone\\ztfidr\\io.py:340\u001b[0m, in \u001b[0;36mget_spectra_datafile\u001b[1;34m(contains, startswith, snidres, extension, use_dask, add_phase, data)\u001b[0m\n\u001b[0;32m    338\u001b[0m specfiles \u001b[38;5;241m=\u001b[39m glob(os\u001b[38;5;241m.\u001b[39mpath\u001b[38;5;241m.\u001b[39mjoin(IDR_PATH, \u001b[38;5;124m\"\u001b[39m\u001b[38;5;124mspectra\u001b[39m\u001b[38;5;124m\"\u001b[39m, glob_format))\n\u001b[0;32m    339\u001b[0m datafile \u001b[38;5;241m=\u001b[39m pandas\u001b[38;5;241m.\u001b[39mDataFrame(specfiles, columns\u001b[38;5;241m=\u001b[39m[\u001b[38;5;124m\"\u001b[39m\u001b[38;5;124mfullpath\u001b[39m\u001b[38;5;124m\"\u001b[39m])\n\u001b[1;32m--> 340\u001b[0m datafile[\u001b[38;5;124m\"\u001b[39m\u001b[38;5;124mbasename\u001b[39m\u001b[38;5;124m\"\u001b[39m] \u001b[38;5;241m=\u001b[39m datafile[\u001b[38;5;124m\"\u001b[39m\u001b[38;5;124mfullpath\u001b[39m\u001b[38;5;124m\"\u001b[39m]\u001b[38;5;241m.\u001b[39mstr\u001b[38;5;241m.\u001b[39msplit(pat\u001b[38;5;241m=\u001b[39m\u001b[38;5;124m\"\u001b[39m\u001b[38;5;124m/\u001b[39m\u001b[38;5;124m\"\u001b[39m, expand\u001b[38;5;241m=\u001b[39m\u001b[38;5;28;01mTrue\u001b[39;00m)\u001b[38;5;241m.\u001b[39miloc[:, \u001b[38;5;241m-\u001b[39m\u001b[38;5;241m1\u001b[39m]\n\u001b[0;32m    342\u001b[0m specfile \u001b[38;5;241m=\u001b[39m pandas\u001b[38;5;241m.\u001b[39mconcat([datafile, parse_filename(datafile[\u001b[38;5;124m\"\u001b[39m\u001b[38;5;124mbasename\u001b[39m\u001b[38;5;124m\"\u001b[39m], snidres\u001b[38;5;241m=\u001b[39msnidres)], axis\u001b[38;5;241m=\u001b[39m\u001b[38;5;241m1\u001b[39m)\n\u001b[0;32m    344\u001b[0m \u001b[38;5;28;01mif\u001b[39;00m add_phase:\n",
      "File \u001b[1;32mc:\\Users\\senan\\anaconda3\\Lib\\site-packages\\pandas\\core\\indexing.py:1097\u001b[0m, in \u001b[0;36m_LocationIndexer.__getitem__\u001b[1;34m(self, key)\u001b[0m\n\u001b[0;32m   1095\u001b[0m     \u001b[38;5;28;01mif\u001b[39;00m \u001b[38;5;28mself\u001b[39m\u001b[38;5;241m.\u001b[39m_is_scalar_access(key):\n\u001b[0;32m   1096\u001b[0m         \u001b[38;5;28;01mreturn\u001b[39;00m \u001b[38;5;28mself\u001b[39m\u001b[38;5;241m.\u001b[39mobj\u001b[38;5;241m.\u001b[39m_get_value(\u001b[38;5;241m*\u001b[39mkey, takeable\u001b[38;5;241m=\u001b[39m\u001b[38;5;28mself\u001b[39m\u001b[38;5;241m.\u001b[39m_takeable)\n\u001b[1;32m-> 1097\u001b[0m     \u001b[38;5;28;01mreturn\u001b[39;00m \u001b[38;5;28mself\u001b[39m\u001b[38;5;241m.\u001b[39m_getitem_tuple(key)\n\u001b[0;32m   1098\u001b[0m \u001b[38;5;28;01melse\u001b[39;00m:\n\u001b[0;32m   1099\u001b[0m     \u001b[38;5;66;03m# we by definition only have the 0th axis\u001b[39;00m\n\u001b[0;32m   1100\u001b[0m     axis \u001b[38;5;241m=\u001b[39m \u001b[38;5;28mself\u001b[39m\u001b[38;5;241m.\u001b[39maxis \u001b[38;5;129;01mor\u001b[39;00m \u001b[38;5;241m0\u001b[39m\n",
      "File \u001b[1;32mc:\\Users\\senan\\anaconda3\\Lib\\site-packages\\pandas\\core\\indexing.py:1594\u001b[0m, in \u001b[0;36m_iLocIndexer._getitem_tuple\u001b[1;34m(self, tup)\u001b[0m\n\u001b[0;32m   1593\u001b[0m \u001b[38;5;28;01mdef\u001b[39;00m \u001b[38;5;21m_getitem_tuple\u001b[39m(\u001b[38;5;28mself\u001b[39m, tup: \u001b[38;5;28mtuple\u001b[39m):\n\u001b[1;32m-> 1594\u001b[0m     tup \u001b[38;5;241m=\u001b[39m \u001b[38;5;28mself\u001b[39m\u001b[38;5;241m.\u001b[39m_validate_tuple_indexer(tup)\n\u001b[0;32m   1595\u001b[0m     \u001b[38;5;28;01mwith\u001b[39;00m suppress(IndexingError):\n\u001b[0;32m   1596\u001b[0m         \u001b[38;5;28;01mreturn\u001b[39;00m \u001b[38;5;28mself\u001b[39m\u001b[38;5;241m.\u001b[39m_getitem_lowerdim(tup)\n",
      "File \u001b[1;32mc:\\Users\\senan\\anaconda3\\Lib\\site-packages\\pandas\\core\\indexing.py:904\u001b[0m, in \u001b[0;36m_LocationIndexer._validate_tuple_indexer\u001b[1;34m(self, key)\u001b[0m\n\u001b[0;32m    902\u001b[0m \u001b[38;5;28;01mfor\u001b[39;00m i, k \u001b[38;5;129;01min\u001b[39;00m \u001b[38;5;28menumerate\u001b[39m(key):\n\u001b[0;32m    903\u001b[0m     \u001b[38;5;28;01mtry\u001b[39;00m:\n\u001b[1;32m--> 904\u001b[0m         \u001b[38;5;28mself\u001b[39m\u001b[38;5;241m.\u001b[39m_validate_key(k, i)\n\u001b[0;32m    905\u001b[0m     \u001b[38;5;28;01mexcept\u001b[39;00m \u001b[38;5;167;01mValueError\u001b[39;00m \u001b[38;5;28;01mas\u001b[39;00m err:\n\u001b[0;32m    906\u001b[0m         \u001b[38;5;28;01mraise\u001b[39;00m \u001b[38;5;167;01mValueError\u001b[39;00m(\n\u001b[0;32m    907\u001b[0m             \u001b[38;5;124m\"\u001b[39m\u001b[38;5;124mLocation based indexing can only have \u001b[39m\u001b[38;5;124m\"\u001b[39m\n\u001b[0;32m    908\u001b[0m             \u001b[38;5;124mf\u001b[39m\u001b[38;5;124m\"\u001b[39m\u001b[38;5;124m[\u001b[39m\u001b[38;5;132;01m{\u001b[39;00m\u001b[38;5;28mself\u001b[39m\u001b[38;5;241m.\u001b[39m_valid_types\u001b[38;5;132;01m}\u001b[39;00m\u001b[38;5;124m] types\u001b[39m\u001b[38;5;124m\"\u001b[39m\n\u001b[0;32m    909\u001b[0m         ) \u001b[38;5;28;01mfrom\u001b[39;00m \u001b[38;5;21;01merr\u001b[39;00m\n",
      "File \u001b[1;32mc:\\Users\\senan\\anaconda3\\Lib\\site-packages\\pandas\\core\\indexing.py:1496\u001b[0m, in \u001b[0;36m_iLocIndexer._validate_key\u001b[1;34m(self, key, axis)\u001b[0m\n\u001b[0;32m   1494\u001b[0m     \u001b[38;5;28;01mreturn\u001b[39;00m\n\u001b[0;32m   1495\u001b[0m \u001b[38;5;28;01melif\u001b[39;00m is_integer(key):\n\u001b[1;32m-> 1496\u001b[0m     \u001b[38;5;28mself\u001b[39m\u001b[38;5;241m.\u001b[39m_validate_integer(key, axis)\n\u001b[0;32m   1497\u001b[0m \u001b[38;5;28;01melif\u001b[39;00m \u001b[38;5;28misinstance\u001b[39m(key, \u001b[38;5;28mtuple\u001b[39m):\n\u001b[0;32m   1498\u001b[0m     \u001b[38;5;66;03m# a tuple should already have been caught by this point\u001b[39;00m\n\u001b[0;32m   1499\u001b[0m     \u001b[38;5;66;03m# so don't treat a tuple as a valid indexer\u001b[39;00m\n\u001b[0;32m   1500\u001b[0m     \u001b[38;5;28;01mraise\u001b[39;00m IndexingError(\u001b[38;5;124m\"\u001b[39m\u001b[38;5;124mToo many indexers\u001b[39m\u001b[38;5;124m\"\u001b[39m)\n",
      "File \u001b[1;32mc:\\Users\\senan\\anaconda3\\Lib\\site-packages\\pandas\\core\\indexing.py:1589\u001b[0m, in \u001b[0;36m_iLocIndexer._validate_integer\u001b[1;34m(self, key, axis)\u001b[0m\n\u001b[0;32m   1587\u001b[0m len_axis \u001b[38;5;241m=\u001b[39m \u001b[38;5;28mlen\u001b[39m(\u001b[38;5;28mself\u001b[39m\u001b[38;5;241m.\u001b[39mobj\u001b[38;5;241m.\u001b[39m_get_axis(axis))\n\u001b[0;32m   1588\u001b[0m \u001b[38;5;28;01mif\u001b[39;00m key \u001b[38;5;241m>\u001b[39m\u001b[38;5;241m=\u001b[39m len_axis \u001b[38;5;129;01mor\u001b[39;00m key \u001b[38;5;241m<\u001b[39m \u001b[38;5;241m-\u001b[39mlen_axis:\n\u001b[1;32m-> 1589\u001b[0m     \u001b[38;5;28;01mraise\u001b[39;00m \u001b[38;5;167;01mIndexError\u001b[39;00m(\u001b[38;5;124m\"\u001b[39m\u001b[38;5;124msingle positional indexer is out-of-bounds\u001b[39m\u001b[38;5;124m\"\u001b[39m)\n",
      "\u001b[1;31mIndexError\u001b[0m: single positional indexer is out-of-bounds"
     ]
    }
   ],
   "source": [
    "import ztfidr\n",
    "sample = ztfidr.io.get_spectra_datafile('ZTF18aaapivw')"
   ]
  },
  {
   "cell_type": "code",
   "execution_count": 10,
   "metadata": {},
   "outputs": [],
   "source": [
    "#!git clone https://github.com/MickaelRigault/ztfidr.git"
   ]
  },
  {
   "cell_type": "code",
   "execution_count": 11,
   "metadata": {},
   "outputs": [],
   "source": [
    "#import ztfidr\n",
    "#sample = ztfidr.io.get_spectra_datafile()"
   ]
  },
  {
   "cell_type": "code",
   "execution_count": 12,
   "metadata": {},
   "outputs": [],
   "source": [
    "from astropy.io import ascii\n",
    "data = ascii.read(r\"C:\\Users\\senan\\OneDrive\\Desktop\\Capstone\\ztfcosmoidr\\dr2\\spectra\\ZTF17aadlxmv_20200123_SEDm_0.ascii\")"
   ]
  },
  {
   "cell_type": "code",
   "execution_count": 13,
   "metadata": {},
   "outputs": [],
   "source": [
    "data=np.array(data)"
   ]
  },
  {
   "cell_type": "code",
   "execution_count": 14,
   "metadata": {},
   "outputs": [],
   "source": [
    "angstrom = []\n",
    "flux = []\n",
    "flux_err = []\n",
    "for i in range(len(data)):\n",
    "    angstrom.append(data[i][0])\n",
    "    flux.append(data[i][1])\n",
    "    flux_err.append(data[i][2])\n",
    "\n",
    "angstrom = np.array(angstrom)\n",
    "flux = np.array(flux)\n",
    "flux_err = np.array(flux_err)\n"
   ]
  },
  {
   "cell_type": "code",
   "execution_count": 15,
   "metadata": {},
   "outputs": [
    {
     "data": {
      "text/plain": [
       "<ErrorbarContainer object of 3 artists>"
      ]
     },
     "execution_count": 15,
     "metadata": {},
     "output_type": "execute_result"
    },
    {
     "data": {
      "image/png": "[encoded data removed]",
      "text/plain": [
       "<Figure size 640x480 with 1 Axes>"
      ]
     },
     "metadata": {},
     "output_type": "display_data"
    }
   ],
   "source": [
    "plt.plot(angstrom,flux)\n",
    "plt.errorbar(x=angstrom,y=flux,yerr=flux_err,fmt='none')"
   ]
  },
  {
   "cell_type": "code",
   "execution_count": 18,
   "metadata": {},
   "outputs": [
    {
     "name": "stdout",
     "output_type": "stream",
     "text": [
      "['ZTF18aaapivw', 'ZTF18aabstmw', 'ZTF18aabtiph', 'ZTF18aabyhlc', 'ZTF18aagtcxj', 'ZTF18aahfbqp', 'ZTF18aahfgyz', 'ZTF18aahjaxz', 'ZTF18aahpzhc', 'ZTF18aaifxvz', 'ZTF18aaimxdx', 'ZTF18aaixjrc', 'ZTF18aajnrgu', 'ZTF18aajtlbf', 'ZTF18aakglgw', 'ZTF18aamsgjq', 'ZTF18aangpkx', 'ZTF18aaobjwr', 'ZTF18aaodrgt', 'ZTF18aaoxrup', 'ZTF18aapqwyv', 'ZTF18aaqeasu', 'ZTF18aaqgadq', 'ZTF18aaqpkvx', 'ZTF18aarbaba', 'ZTF18aarcypa', 'ZTF18aarikzk', 'ZTF18aaroihe', 'ZTF18aasprui', 'ZTF18aasrsst', 'ZTF18aauizcr', 'ZTF18aavniyw', 'ZTF18aavrmlf', 'ZTF18aavsilo', 'ZTF18aaxdrjn', 'ZTF18aaxrabr', 'ZTF18aaykmzg', 'ZTF18aayxupv', 'ZTF18aazblzy', 'ZTF18aazgfkq', 'ZTF18aazhwnh', 'ZTF18aazixbw', 'ZTF18aazxdyy', 'ZTF18abbikrz', 'ZTF18abbvsiv', 'ZTF18abclfee', 'ZTF18abdgwxn', 'ZTF18abdmgab', 'ZTF18abeegsl', 'ZTF18abetejo', 'ZTF18abfdupq', 'ZTF18abhgrff', 'ZTF18abixkdo', 'ZTF18abjrznx', 'ZTF18abklaoj', 'ZTF18ablqhqx', 'ZTF18abltaxf', 'ZTF18abltdfj', 'ZTF18ablwtkf', 'ZTF18abmjcbs', 'ZTF18abmjvuf', 'ZTF18abmrhom', 'ZTF18abncsdn', 'ZTF18abnygkb', 'ZTF18abnzocn', 'ZTF18abrytwr', 'ZTF18abscygs', 'ZTF18absdbvf', 'ZTF18abshmro', 'ZTF18absnqyo', 'ZTF18abssuxz', 'ZTF18abtgtpn', 'ZTF18abtjpoy', 'ZTF18abtnbys', 'ZTF18abtrvkm', 'ZTF18abtvgxv', 'ZTF18abupgql', 'ZTF18abuuimf', 'ZTF18abvejbm', 'ZTF18abvtcts', 'ZTF18abwktmm', 'ZTF18abxbugc', 'ZTF18abxroxl', 'ZTF18acaszeh', 'ZTF18acbudzo', 'ZTF18acbvgqw', 'ZTF18acbyyff', 'ZTF18acbzvqj', 'ZTF18accbppp', 'ZTF18acclmqm', 'ZTF18acehilk', 'ZTF18acemhyb', 'ZTF18acerdie', 'ZTF18acfwmqj', 'ZTF18achbllm', 'ZTF18achjcwv', 'ZTF18achjnlr', 'ZTF18acmvcme', 'ZTF18acqxsyi', 'ZTF18acrdciw', 'ZTF18acslhcq', 'ZTF18acslknd', 'ZTF18acslpba', 'ZTF18acsolgq', 'ZTF18acsoyiu', 'ZTF18acsycnc', 'ZTF18acsyzca', 'ZTF18acszgnm', 'ZTF18actxcuh', 'ZTF18actxxcx', 'ZTF18acuimze', 'ZTF18acusueb', 'ZTF18acusyqo', 'ZTF18acvcxnc', 'ZTF18acvrfvv', 'ZTF18acwzdbb', 'ZTF18acynoro', 'ZTF18aczdtgn', 'ZTF18adacoaj', 'ZTF18adaruzw', 'ZTF18adathpb', 'ZTF18adbidta', 'ZTF19aaafica', 'ZTF19aaaonuk', 'ZTF19aaaphpx', 'ZTF19aaarhtg', 'ZTF19aablual', 'ZTF19aacijie', 'ZTF19aacilht', 'ZTF19aadaszg', 'ZTF19aaddzpk', 'ZTF19aaejslw', 'ZTF19aaeopqn', 'ZTF19aaephty', 'ZTF19aafwrhf', 'ZTF19aagkfvq', 'ZTF19aahjhoy', 'ZTF19aahsclk', 'ZTF19aahuian', 'ZTF19aakizps', 'ZTF19aakkuqb', 'ZTF19aakljys', 'ZTF19aaklqod', 'ZTF19aakoese', 'ZTF19aakpmry', 'ZTF19aaktdid', 'ZTF19aakyers', 'ZTF19aalsqqy', 'ZTF19aalwegb', 'ZTF19aambzqh', 'ZTF19aamgttu', 'ZTF19aamhhgu', 'ZTF19aamhlnl', 'ZTF19aamkdtq', 'ZTF19aammewd', 'ZTF19aamuvak', 'ZTF19aanhgqg', 'ZTF19aanmclt', 'ZTF19aanukbi', 'ZTF19aanxgrz', 'ZTF19aapcvxi', 'ZTF19aapemqu', 'ZTF19aapgdcn', 'ZTF19aaprwye', 'ZTF19aapwbvm', 'ZTF19aapxocr', 'ZTF19aarfnto', 'ZTF19aariwpf', 'ZTF19aarnrbw', 'ZTF19aarqmjs', 'ZTF19aartylj', 'ZTF19aasckwd', 'ZTF19aascpkb', 'ZTF19aatudsq', 'ZTF19aatvkrn', 'ZTF19aatvljp', 'ZTF19aauhbua', 'ZTF19aauhwbp', 'ZTF19aauoulb', 'ZTF19aaurstb', 'ZTF19aavhvkd', 'ZTF19aavhzsc', 'ZTF19aavivbl', 'ZTF19aavmgtv', 'ZTF19aavqiuw', 'ZTF19aavrswr', 'ZTF19aavvvrc', 'ZTF19aawhhkn', 'ZTF19aawhlcn', 'ZTF19aawhniz', 'ZTF19aayabqe', 'ZTF19aaynsws', 'ZTF19aayqait', 'ZTF19abahsdc', 'ZTF19abalrbb', 'ZTF19abaukyt', 'ZTF19abbvzgr', 'ZTF19abbytxa', 'ZTF19abcttsc', 'ZTF19abcunya', 'ZTF19abcupln', 'ZTF19abcyqpk', 'ZTF19abdehcz', 'ZTF19abdjwtv', 'ZTF19abdrwsz', 'ZTF19abdsqmf', 'ZTF19abeggfi', 'ZTF19abetjcx', 'ZTF19abfvhlx', 'ZTF19abfwnar', 'ZTF19abggmim', 'ZTF19abgjlef', 'ZTF19abhbjge', 'ZTF19abhemuy', 'ZTF19abhibzk', 'ZTF19abhjhes', 'ZTF19abhpvfq', 'ZTF19abhxllw', 'ZTF19abiahik', 'ZTF19abioohk', 'ZTF19abisbgx', 'ZTF19abizewg', 'ZTF19abjpkdz', 'ZTF19abkbkyb', 'ZTF19abkcpxe', 'ZTF19abkcsmm', 'ZTF19abkdeae', 'ZTF19abkdsce', 'ZTF19abkgbul', 'ZTF19ablusdf', 'ZTF19abmpoxa', 'ZTF19abomiel', 'ZTF19abpbmli', 'ZTF19abpelgt', 'ZTF19abpqvdh', 'ZTF19abqgrht', 'ZTF19abqirpa', 'ZTF19abqsvue', 'ZTF19abqynnh', 'ZTF19abrirdm', 'ZTF19abrogbl', 'ZTF19abttrte', 'ZTF19abttstb', 'ZTF19aburnqh', 'ZTF19abuzpmr', 'ZTF19abwvals', 'ZTF19abxfhrq', 'ZTF19abyjjxp', 'ZTF19abywqza', 'ZTF19abzlsbl', 'ZTF19abzmnuk', 'ZTF19abzprpk', 'ZTF19abzwtiu', 'ZTF19acardcs', 'ZTF19acavtco', 'ZTF19acazbqm', 'ZTF19acazpyz', 'ZTF19acblnop', 'ZTF19acblzux', 'ZTF19acdfkqa', 'ZTF19acdisjm', 'ZTF19aceidtc', 'ZTF19acfsazg', 'ZTF19acgdfjt', 'ZTF19acgldqr', 'ZTF19achahea', 'ZTF19achetvw', 'ZTF19achtiax', 'ZTF19acjerzj', 'ZTF19acjwqvo', 'ZTF19aclofmz', 'ZTF19acmblbi', 'ZTF19acmyljb', 'ZTF19acnkeji', 'ZTF19acoxgqw', 'ZTF19acpgaet', 'ZTF19acqehbt', 'ZTF19acqypso', 'ZTF19acrenwk', 'ZTF19acsfvog', 'ZTF19acteaxl', 'ZTF19actlcax', 'ZTF19acvdzfq', 'ZTF19acvgbeh', 'ZTF19acxguhd', 'ZTF19acxlylb', 'ZTF19acxngol', 'ZTF19acxovkl', 'ZTF19acxowwt', 'ZTF19acxzafe', 'ZTF19acyitga', 'ZTF19acyksfd', 'ZTF19acynije', 'ZTF19aczeomw', 'ZTF19aczjsqn', 'ZTF19adaiyud', 'ZTF19adajqsp', 'ZTF19adakcrw', 'ZTF19adcdgca', 'ZTF19adcghbt', 'ZTF20aaaxaab', 'ZTF20aaaxacu', 'ZTF20aaaymqt', 'ZTF20aabqdbo', 'ZTF20aacevxq', 'ZTF20aacwxut', 'ZTF20aadccel', 'ZTF20aaeuxqk', 'ZTF20aaewban', 'ZTF20aaexaqw', 'ZTF20aafanxk', 'ZTF20aaflaug', 'ZTF20aafnrtm', 'ZTF20aafqpum', 'ZTF20aafvzhu', 'ZTF20aagfjlj', 'ZTF20aaghryk', 'ZTF20aagloch', 'ZTF20aagvvnr', 'ZTF20aahaxjl', 'ZTF20aahptds', 'ZTF20aahqbib', 'ZTF20aaifyfx', 'ZTF20aaivjce', 'ZTF20aajvcwd', 'ZTF20aakzezp', 'ZTF20aamcvyp', 'ZTF20aamdqiz', 'ZTF20aamksoq', 'ZTF20aamkyyx', 'ZTF20aammhli', 'ZTF20aamvoeh', 'ZTF20aamwfea', 'ZTF20aanvpzo', 'ZTF20aaodkvl', 'ZTF20aapcmur', 'ZTF20aapifyh', 'ZTF20aaqnnrn', 'ZTF20aaqzzyt', 'ZTF20aarasxl', 'ZTF20aasapko', 'ZTF20aasdibr', 'ZTF20aasjzgc', 'ZTF20aasxrko', 'ZTF20aatpqps', 'ZTF20aattqfr', 'ZTF20aatvzmm', 'ZTF20aaummmc', 'ZTF20aaumsrr', 'ZTF20aaurhzc', 'ZTF20aaurjzv', 'ZTF20aauwjla', 'ZTF20aauwjmw', 'ZTF20aavnnat', 'ZTF20aavrloz', 'ZTF20aavxraf', 'ZTF20aawmkxv', 'ZTF20aawoojh', 'ZTF20aawwcgb', 'ZTF20aaxfzhw', 'ZTF20aaxicpu', 'ZTF20aaydgsu', 'ZTF20aayjyhp', 'ZTF20aaymbjk', 'ZTF20aaywban', 'ZTF20aazgtmp', 'ZTF20aazhzna', 'ZTF20aazkxcw', 'ZTF20aaznlnj', 'ZTF20abajdvf', 'ZTF20abasewu', 'ZTF20abaunmw', 'ZTF20abavxpk', 'ZTF20abawntz', 'ZTF20abazekd', 'ZTF20abbzmue', 'ZTF20abcbxpj', 'ZTF20abdxffu', 'ZTF20abdxyae', 'ZTF20abdzief', 'ZTF20abeeahl', 'ZTF20abeeytg', 'ZTF20abegiry', 'ZTF20abegopd', 'ZTF20abehvas', 'ZTF20abeolsw', 'ZTF20abeyqmx', 'ZTF20abfhway', 'ZTF20abfsemq', 'ZTF20abgbiet', 'ZTF20abgbvgl', 'ZTF20abgbxzn', 'ZTF20abgdtmv', 'ZTF20abgfljj', 'ZTF20abglyot', 'ZTF20abhjesj', 'ZTF20abhrmxh', 'ZTF20abhvnzc', 'ZTF20abijfqq', 'ZTF20abimuaw', 'ZTF20abipuee', 'ZTF20abjapav', 'ZTF20abjfufv', 'ZTF20abkxion', 'ZTF20ableiem', 'ZTF20ablxtlp', 'ZTF20abmbycd', 'ZTF20abmddts', 'ZTF20abmdfcy', 'ZTF20abmoans', 'ZTF20abmxtnh', 'ZTF20abnbpxq', 'ZTF20abpsbyg', 'ZTF20abpxtaz', 'ZTF20abqbzuv', 'ZTF20abqhnqq', 'ZTF20abqmtsh', 'ZTF20abqofgc', 'ZTF20abquppg', 'ZTF20abqvsik', 'ZTF20abrgyhd', 'ZTF20absvwdh', 'ZTF20abswjae', 'ZTF20abszyjg', 'ZTF20abtctgr', 'ZTF20abthxfr', 'ZTF20abucjsa', 'ZTF20abujoya', 'ZTF20abuojuw', 'ZTF20abxkjxg', 'ZTF20abxlham', 'ZTF20abyxnjo', 'ZTF20abzcfqn', 'ZTF20abzettb', 'ZTF20abzhwtq', 'ZTF20acaapwk', 'ZTF20acbakkg', 'ZTF20accoccp', 'ZTF20acdnmpv', 'ZTF20acduffd', 'ZTF20acdutnz', 'ZTF20acexvcz', 'ZTF20acfnuee', 'ZTF20acgkuay', 'ZTF20acgpngg', 'ZTF20acgyulx', 'ZTF20acgzjje', 'ZTF20achlzpt', 'ZTF20achoqvb', 'ZTF20achsoln', 'ZTF20achvmjr', 'ZTF20achwpvs', 'ZTF20aciidkb', 'ZTF20aciigcw', 'ZTF20acimhna', 'ZTF20acimjmc', 'ZTF20acimzlk', 'ZTF20aciqono', 'ZTF20acithxf', 'ZTF20acjrytv', 'ZTF20aclggpx', 'ZTF20acnrphs', 'ZTF20acnvnss', 'ZTF20acnvzga', 'ZTF20acnznol', 'ZTF20acojxtb', 'ZTF20acoredl', 'ZTF20acotwur', 'ZTF20acovrzx', 'ZTF20acoyyly', 'ZTF20acpbbqf', 'ZTF20acpbnzr', 'ZTF20acphick', 'ZTF20acpkzxq', 'ZTF20acpprmy', 'ZTF20acquetr', 'ZTF20acqzpta', 'ZTF20acrdadi', 'ZTF20acrheie', 'ZTF20actfoxr', 'ZTF20actljfs', 'ZTF20acumekm', 'ZTF20acuosvy', 'ZTF20acusneh', 'ZTF20acuspji', 'ZTF20acvbrbv', 'ZTF20acvziuf', 'ZTF20acweyro', 'ZTF20acwgnxk', 'ZTF20acwkvgj', 'ZTF20acwpbgv', 'ZTF20acwqndp', 'ZTF20acwuzqj', 'ZTF20acwvluw', 'ZTF20acwvmms', 'ZTF20acxdawc', 'ZTF20acxtewc', 'ZTF20acyhena', 'ZTF20acymtbr', 'ZTF20acynjjo', 'ZTF20acynlkj', 'ZTF20acyybwo', 'ZUDS20dlgrv']\n"
     ]
    }
   ],
   "source": [
    "print(ztfname_filtered_list)"
   ]
  },
  {
   "cell_type": "code",
   "execution_count": 13,
   "metadata": {},
   "outputs": [],
   "source": [
    "#import ztfidr\n",
    "#sample = ztfidr.io.get_spectra_datafile()\n",
    "#ascii.read('ZTF18aaapivw')"
   ]
  },
  {
   "cell_type": "code",
   "execution_count": 30,
   "metadata": {},
   "outputs": [],
   "source": [
    "#import ztfidr\n",
    "#import ztfidr.io\n",
    "#spectra = ztfidr.io.get_spectra_datafile('ZTF18aaapivw')"
   ]
  },
  {
   "cell_type": "code",
   "execution_count": 26,
   "metadata": {},
   "outputs": [],
   "source": [
    "#import io"
   ]
  },
  {
   "cell_type": "code",
   "execution_count": 12,
   "metadata": {},
   "outputs": [],
   "source": [
    "#sample = ztfidr.io.get_spectra_datafile()"
   ]
  },
  {
   "cell_type": "code",
   "execution_count": 21,
   "metadata": {},
   "outputs": [
    {
     "ename": "FileNotFoundError",
     "evalue": "[Errno 2] No such file or directory: './dr2\\\\tables\\\\ztfdr2_redshifts.csv'",
     "output_type": "error",
     "traceback": [
      "\u001b[1;31m---------------------------------------------------------------------------\u001b[0m",
      "\u001b[1;31mFileNotFoundError\u001b[0m                         Traceback (most recent call last)",
      "Cell \u001b[1;32mIn[21], line 1\u001b[0m\n\u001b[1;32m----> 1\u001b[0m sample \u001b[38;5;241m=\u001b[39m ztfidr\u001b[38;5;241m.\u001b[39mget_sample()\n",
      "File \u001b[1;32mc:\\Users\\senan\\OneDrive\\Desktop\\Capstone\\ztfidr\\sample.py:14\u001b[0m, in \u001b[0;36mget_sample\u001b[1;34m(**kwargs)\u001b[0m\n\u001b[0;32m     12\u001b[0m \u001b[38;5;28;01mdef\u001b[39;00m \u001b[38;5;21mget_sample\u001b[39m(\u001b[38;5;241m*\u001b[39m\u001b[38;5;241m*\u001b[39mkwargs):\n\u001b[0;32m     13\u001b[0m \u001b[38;5;250m    \u001b[39m\u001b[38;5;124;03m\"\"\" Short to to Sample.load() \"\"\"\u001b[39;00m\n\u001b[1;32m---> 14\u001b[0m     \u001b[38;5;28;01mreturn\u001b[39;00m Sample\u001b[38;5;241m.\u001b[39mload(\u001b[38;5;241m*\u001b[39m\u001b[38;5;241m*\u001b[39mkwargs)\n",
      "File \u001b[1;32mc:\\Users\\senan\\OneDrive\\Desktop\\Capstone\\ztfidr\\sample.py:126\u001b[0m, in \u001b[0;36mSample.load\u001b[1;34m(cls, redshift_range, target_list, has_spectra, saltmodel, **kwargs)\u001b[0m\n\u001b[0;32m    122\u001b[0m \u001b[38;5;129m@classmethod\u001b[39m\n\u001b[0;32m    123\u001b[0m \u001b[38;5;28;01mdef\u001b[39;00m \u001b[38;5;21mload\u001b[39m(\u001b[38;5;28mcls\u001b[39m, redshift_range\u001b[38;5;241m=\u001b[39m\u001b[38;5;28;01mNone\u001b[39;00m, target_list\u001b[38;5;241m=\u001b[39m\u001b[38;5;28;01mNone\u001b[39;00m, has_spectra\u001b[38;5;241m=\u001b[39m\u001b[38;5;28;01mTrue\u001b[39;00m,\n\u001b[0;32m    124\u001b[0m              saltmodel\u001b[38;5;241m=\u001b[39m\u001b[38;5;124m\"\u001b[39m\u001b[38;5;124mdefault\u001b[39m\u001b[38;5;124m\"\u001b[39m, \u001b[38;5;241m*\u001b[39m\u001b[38;5;241m*\u001b[39mkwargs):\n\u001b[0;32m    125\u001b[0m \u001b[38;5;250m    \u001b[39m\u001b[38;5;124;03m\"\"\" Load a Sample instance building it from io.get_targets_data() \"\"\"\u001b[39;00m\n\u001b[1;32m--> 126\u001b[0m     data, saltmodel \u001b[38;5;241m=\u001b[39m io\u001b[38;5;241m.\u001b[39mget_targets_data(saltmodel\u001b[38;5;241m=\u001b[39msaltmodel, \u001b[38;5;241m*\u001b[39m\u001b[38;5;241m*\u001b[39mkwargs)\n\u001b[0;32m    128\u001b[0m     \u001b[38;5;28;01mif\u001b[39;00m redshift_range \u001b[38;5;129;01mis\u001b[39;00m \u001b[38;5;129;01mnot\u001b[39;00m \u001b[38;5;28;01mNone\u001b[39;00m:\n\u001b[0;32m    129\u001b[0m         data \u001b[38;5;241m=\u001b[39m data[data[\u001b[38;5;124m\"\u001b[39m\u001b[38;5;124mredshift\u001b[39m\u001b[38;5;124m\"\u001b[39m]\u001b[38;5;241m.\u001b[39mbetween(\u001b[38;5;241m*\u001b[39mredshift_range)]\n",
      "File \u001b[1;32mc:\\Users\\senan\\OneDrive\\Desktop\\Capstone\\ztfidr\\io.py:22\u001b[0m, in \u001b[0;36mget_targets_data\u001b[1;34m(saltmodel)\u001b[0m\n\u001b[0;32m     14\u001b[0m \u001b[38;5;28;01mdef\u001b[39;00m \u001b[38;5;21mget_targets_data\u001b[39m(saltmodel\u001b[38;5;241m=\u001b[39m\u001b[38;5;124m\"\u001b[39m\u001b[38;5;124mdefault\u001b[39m\u001b[38;5;124m\"\u001b[39m):\n\u001b[0;32m     15\u001b[0m \u001b[38;5;250m    \u001b[39m\u001b[38;5;124;03m\"\"\" \u001b[39;00m\n\u001b[0;32m     16\u001b[0m \u001b[38;5;124;03m    Returns\u001b[39;00m\n\u001b[0;32m     17\u001b[0m \u001b[38;5;124;03m    -------\u001b[39;00m\n\u001b[1;32m   (...)\u001b[0m\n\u001b[0;32m     20\u001b[0m \u001b[38;5;124;03m        - name of the lc fit model.\u001b[39;00m\n\u001b[0;32m     21\u001b[0m \u001b[38;5;124;03m    \"\"\"\u001b[39;00m\n\u001b[1;32m---> 22\u001b[0m     redshifts \u001b[38;5;241m=\u001b[39m get_redshif_data()[[\u001b[38;5;124m\"\u001b[39m\u001b[38;5;124mredshift\u001b[39m\u001b[38;5;124m\"\u001b[39m,\u001b[38;5;124m\"\u001b[39m\u001b[38;5;124mredshift_err\u001b[39m\u001b[38;5;124m\"\u001b[39m, \u001b[38;5;124m\"\u001b[39m\u001b[38;5;124msource\u001b[39m\u001b[38;5;124m\"\u001b[39m]]\n\u001b[0;32m     23\u001b[0m     saltparams, saltmodel \u001b[38;5;241m=\u001b[39m get_saltparams(which\u001b[38;5;241m=\u001b[39msaltmodel)\n\u001b[0;32m     24\u001b[0m     coords \u001b[38;5;241m=\u001b[39m get_coords_data()\n",
      "File \u001b[1;32mc:\\Users\\senan\\OneDrive\\Desktop\\Capstone\\ztfidr\\io.py:106\u001b[0m, in \u001b[0;36mget_redshif_data\u001b[1;34m(load, index_col, full, **kwargs)\u001b[0m\n\u001b[0;32m    103\u001b[0m \u001b[38;5;28;01mif\u001b[39;00m \u001b[38;5;129;01mnot\u001b[39;00m load:\n\u001b[0;32m    104\u001b[0m     \u001b[38;5;28;01mreturn\u001b[39;00m filepath\n\u001b[1;32m--> 106\u001b[0m data \u001b[38;5;241m=\u001b[39m pandas\u001b[38;5;241m.\u001b[39mread_csv(filepath, index_col\u001b[38;5;241m=\u001b[39mindex_col, \u001b[38;5;241m*\u001b[39m\u001b[38;5;241m*\u001b[39mkwargs)\n\u001b[0;32m    107\u001b[0m data\u001b[38;5;241m.\u001b[39mindex\u001b[38;5;241m.\u001b[39mname \u001b[38;5;241m=\u001b[39m \u001b[38;5;124m'\u001b[39m\u001b[38;5;124mztfname\u001b[39m\u001b[38;5;124m'\u001b[39m\n\u001b[0;32m    109\u001b[0m \u001b[38;5;28;01mif\u001b[39;00m \u001b[38;5;129;01mnot\u001b[39;00m full: \u001b[38;5;66;03m# get only redshift and source\u001b[39;00m\n",
      "File \u001b[1;32mc:\\Users\\senan\\anaconda3\\Lib\\site-packages\\pandas\\io\\parsers\\readers.py:912\u001b[0m, in \u001b[0;36mread_csv\u001b[1;34m(filepath_or_buffer, sep, delimiter, header, names, index_col, usecols, dtype, engine, converters, true_values, false_values, skipinitialspace, skiprows, skipfooter, nrows, na_values, keep_default_na, na_filter, verbose, skip_blank_lines, parse_dates, infer_datetime_format, keep_date_col, date_parser, date_format, dayfirst, cache_dates, iterator, chunksize, compression, thousands, decimal, lineterminator, quotechar, quoting, doublequote, escapechar, comment, encoding, encoding_errors, dialect, on_bad_lines, delim_whitespace, low_memory, memory_map, float_precision, storage_options, dtype_backend)\u001b[0m\n\u001b[0;32m    899\u001b[0m kwds_defaults \u001b[38;5;241m=\u001b[39m _refine_defaults_read(\n\u001b[0;32m    900\u001b[0m     dialect,\n\u001b[0;32m    901\u001b[0m     delimiter,\n\u001b[1;32m   (...)\u001b[0m\n\u001b[0;32m    908\u001b[0m     dtype_backend\u001b[38;5;241m=\u001b[39mdtype_backend,\n\u001b[0;32m    909\u001b[0m )\n\u001b[0;32m    910\u001b[0m kwds\u001b[38;5;241m.\u001b[39mupdate(kwds_defaults)\n\u001b[1;32m--> 912\u001b[0m \u001b[38;5;28;01mreturn\u001b[39;00m _read(filepath_or_buffer, kwds)\n",
      "File \u001b[1;32mc:\\Users\\senan\\anaconda3\\Lib\\site-packages\\pandas\\io\\parsers\\readers.py:577\u001b[0m, in \u001b[0;36m_read\u001b[1;34m(filepath_or_buffer, kwds)\u001b[0m\n\u001b[0;32m    574\u001b[0m _validate_names(kwds\u001b[38;5;241m.\u001b[39mget(\u001b[38;5;124m\"\u001b[39m\u001b[38;5;124mnames\u001b[39m\u001b[38;5;124m\"\u001b[39m, \u001b[38;5;28;01mNone\u001b[39;00m))\n\u001b[0;32m    576\u001b[0m \u001b[38;5;66;03m# Create the parser.\u001b[39;00m\n\u001b[1;32m--> 577\u001b[0m parser \u001b[38;5;241m=\u001b[39m TextFileReader(filepath_or_buffer, \u001b[38;5;241m*\u001b[39m\u001b[38;5;241m*\u001b[39mkwds)\n\u001b[0;32m    579\u001b[0m \u001b[38;5;28;01mif\u001b[39;00m chunksize \u001b[38;5;129;01mor\u001b[39;00m iterator:\n\u001b[0;32m    580\u001b[0m     \u001b[38;5;28;01mreturn\u001b[39;00m parser\n",
      "File \u001b[1;32mc:\\Users\\senan\\anaconda3\\Lib\\site-packages\\pandas\\io\\parsers\\readers.py:1407\u001b[0m, in \u001b[0;36mTextFileReader.__init__\u001b[1;34m(self, f, engine, **kwds)\u001b[0m\n\u001b[0;32m   1404\u001b[0m     \u001b[38;5;28mself\u001b[39m\u001b[38;5;241m.\u001b[39moptions[\u001b[38;5;124m\"\u001b[39m\u001b[38;5;124mhas_index_names\u001b[39m\u001b[38;5;124m\"\u001b[39m] \u001b[38;5;241m=\u001b[39m kwds[\u001b[38;5;124m\"\u001b[39m\u001b[38;5;124mhas_index_names\u001b[39m\u001b[38;5;124m\"\u001b[39m]\n\u001b[0;32m   1406\u001b[0m \u001b[38;5;28mself\u001b[39m\u001b[38;5;241m.\u001b[39mhandles: IOHandles \u001b[38;5;241m|\u001b[39m \u001b[38;5;28;01mNone\u001b[39;00m \u001b[38;5;241m=\u001b[39m \u001b[38;5;28;01mNone\u001b[39;00m\n\u001b[1;32m-> 1407\u001b[0m \u001b[38;5;28mself\u001b[39m\u001b[38;5;241m.\u001b[39m_engine \u001b[38;5;241m=\u001b[39m \u001b[38;5;28mself\u001b[39m\u001b[38;5;241m.\u001b[39m_make_engine(f, \u001b[38;5;28mself\u001b[39m\u001b[38;5;241m.\u001b[39mengine)\n",
      "File \u001b[1;32mc:\\Users\\senan\\anaconda3\\Lib\\site-packages\\pandas\\io\\parsers\\readers.py:1661\u001b[0m, in \u001b[0;36mTextFileReader._make_engine\u001b[1;34m(self, f, engine)\u001b[0m\n\u001b[0;32m   1659\u001b[0m     \u001b[38;5;28;01mif\u001b[39;00m \u001b[38;5;124m\"\u001b[39m\u001b[38;5;124mb\u001b[39m\u001b[38;5;124m\"\u001b[39m \u001b[38;5;129;01mnot\u001b[39;00m \u001b[38;5;129;01min\u001b[39;00m mode:\n\u001b[0;32m   1660\u001b[0m         mode \u001b[38;5;241m+\u001b[39m\u001b[38;5;241m=\u001b[39m \u001b[38;5;124m\"\u001b[39m\u001b[38;5;124mb\u001b[39m\u001b[38;5;124m\"\u001b[39m\n\u001b[1;32m-> 1661\u001b[0m \u001b[38;5;28mself\u001b[39m\u001b[38;5;241m.\u001b[39mhandles \u001b[38;5;241m=\u001b[39m get_handle(\n\u001b[0;32m   1662\u001b[0m     f,\n\u001b[0;32m   1663\u001b[0m     mode,\n\u001b[0;32m   1664\u001b[0m     encoding\u001b[38;5;241m=\u001b[39m\u001b[38;5;28mself\u001b[39m\u001b[38;5;241m.\u001b[39moptions\u001b[38;5;241m.\u001b[39mget(\u001b[38;5;124m\"\u001b[39m\u001b[38;5;124mencoding\u001b[39m\u001b[38;5;124m\"\u001b[39m, \u001b[38;5;28;01mNone\u001b[39;00m),\n\u001b[0;32m   1665\u001b[0m     compression\u001b[38;5;241m=\u001b[39m\u001b[38;5;28mself\u001b[39m\u001b[38;5;241m.\u001b[39moptions\u001b[38;5;241m.\u001b[39mget(\u001b[38;5;124m\"\u001b[39m\u001b[38;5;124mcompression\u001b[39m\u001b[38;5;124m\"\u001b[39m, \u001b[38;5;28;01mNone\u001b[39;00m),\n\u001b[0;32m   1666\u001b[0m     memory_map\u001b[38;5;241m=\u001b[39m\u001b[38;5;28mself\u001b[39m\u001b[38;5;241m.\u001b[39moptions\u001b[38;5;241m.\u001b[39mget(\u001b[38;5;124m\"\u001b[39m\u001b[38;5;124mmemory_map\u001b[39m\u001b[38;5;124m\"\u001b[39m, \u001b[38;5;28;01mFalse\u001b[39;00m),\n\u001b[0;32m   1667\u001b[0m     is_text\u001b[38;5;241m=\u001b[39mis_text,\n\u001b[0;32m   1668\u001b[0m     errors\u001b[38;5;241m=\u001b[39m\u001b[38;5;28mself\u001b[39m\u001b[38;5;241m.\u001b[39moptions\u001b[38;5;241m.\u001b[39mget(\u001b[38;5;124m\"\u001b[39m\u001b[38;5;124mencoding_errors\u001b[39m\u001b[38;5;124m\"\u001b[39m, \u001b[38;5;124m\"\u001b[39m\u001b[38;5;124mstrict\u001b[39m\u001b[38;5;124m\"\u001b[39m),\n\u001b[0;32m   1669\u001b[0m     storage_options\u001b[38;5;241m=\u001b[39m\u001b[38;5;28mself\u001b[39m\u001b[38;5;241m.\u001b[39moptions\u001b[38;5;241m.\u001b[39mget(\u001b[38;5;124m\"\u001b[39m\u001b[38;5;124mstorage_options\u001b[39m\u001b[38;5;124m\"\u001b[39m, \u001b[38;5;28;01mNone\u001b[39;00m),\n\u001b[0;32m   1670\u001b[0m )\n\u001b[0;32m   1671\u001b[0m \u001b[38;5;28;01massert\u001b[39;00m \u001b[38;5;28mself\u001b[39m\u001b[38;5;241m.\u001b[39mhandles \u001b[38;5;129;01mis\u001b[39;00m \u001b[38;5;129;01mnot\u001b[39;00m \u001b[38;5;28;01mNone\u001b[39;00m\n\u001b[0;32m   1672\u001b[0m f \u001b[38;5;241m=\u001b[39m \u001b[38;5;28mself\u001b[39m\u001b[38;5;241m.\u001b[39mhandles\u001b[38;5;241m.\u001b[39mhandle\n",
      "File \u001b[1;32mc:\\Users\\senan\\anaconda3\\Lib\\site-packages\\pandas\\io\\common.py:859\u001b[0m, in \u001b[0;36mget_handle\u001b[1;34m(path_or_buf, mode, encoding, compression, memory_map, is_text, errors, storage_options)\u001b[0m\n\u001b[0;32m    854\u001b[0m \u001b[38;5;28;01melif\u001b[39;00m \u001b[38;5;28misinstance\u001b[39m(handle, \u001b[38;5;28mstr\u001b[39m):\n\u001b[0;32m    855\u001b[0m     \u001b[38;5;66;03m# Check whether the filename is to be opened in binary mode.\u001b[39;00m\n\u001b[0;32m    856\u001b[0m     \u001b[38;5;66;03m# Binary mode does not support 'encoding' and 'newline'.\u001b[39;00m\n\u001b[0;32m    857\u001b[0m     \u001b[38;5;28;01mif\u001b[39;00m ioargs\u001b[38;5;241m.\u001b[39mencoding \u001b[38;5;129;01mand\u001b[39;00m \u001b[38;5;124m\"\u001b[39m\u001b[38;5;124mb\u001b[39m\u001b[38;5;124m\"\u001b[39m \u001b[38;5;129;01mnot\u001b[39;00m \u001b[38;5;129;01min\u001b[39;00m ioargs\u001b[38;5;241m.\u001b[39mmode:\n\u001b[0;32m    858\u001b[0m         \u001b[38;5;66;03m# Encoding\u001b[39;00m\n\u001b[1;32m--> 859\u001b[0m         handle \u001b[38;5;241m=\u001b[39m \u001b[38;5;28mopen\u001b[39m(\n\u001b[0;32m    860\u001b[0m             handle,\n\u001b[0;32m    861\u001b[0m             ioargs\u001b[38;5;241m.\u001b[39mmode,\n\u001b[0;32m    862\u001b[0m             encoding\u001b[38;5;241m=\u001b[39mioargs\u001b[38;5;241m.\u001b[39mencoding,\n\u001b[0;32m    863\u001b[0m             errors\u001b[38;5;241m=\u001b[39merrors,\n\u001b[0;32m    864\u001b[0m             newline\u001b[38;5;241m=\u001b[39m\u001b[38;5;124m\"\u001b[39m\u001b[38;5;124m\"\u001b[39m,\n\u001b[0;32m    865\u001b[0m         )\n\u001b[0;32m    866\u001b[0m     \u001b[38;5;28;01melse\u001b[39;00m:\n\u001b[0;32m    867\u001b[0m         \u001b[38;5;66;03m# Binary mode\u001b[39;00m\n\u001b[0;32m    868\u001b[0m         handle \u001b[38;5;241m=\u001b[39m \u001b[38;5;28mopen\u001b[39m(handle, ioargs\u001b[38;5;241m.\u001b[39mmode)\n",
      "\u001b[1;31mFileNotFoundError\u001b[0m: [Errno 2] No such file or directory: './dr2\\\\tables\\\\ztfdr2_redshifts.csv'"
     ]
    }
   ],
   "source": [
    "sample = ztfidr.get_sample()"
   ]
  },
  {
   "cell_type": "code",
   "execution_count": 18,
   "metadata": {},
   "outputs": [
    {
     "ename": "AttributeError",
     "evalue": "module 'ztfidr.io' has no attribute 'get_host_data'",
     "output_type": "error",
     "traceback": [
      "\u001b[1;31m---------------------------------------------------------------------------\u001b[0m",
      "\u001b[1;31mAttributeError\u001b[0m                            Traceback (most recent call last)",
      "Cell \u001b[1;32mIn[18], line 1\u001b[0m\n\u001b[1;32m----> 1\u001b[0m sample \u001b[38;5;241m=\u001b[39m ztfidr\u001b[38;5;241m.\u001b[39mio\u001b[38;5;241m.\u001b[39mget_host_data()\n",
      "\u001b[1;31mAttributeError\u001b[0m: module 'ztfidr.io' has no attribute 'get_host_data'"
     ]
    }
   ],
   "source": [
    "sample = ztfidr.get_host_data()"
   ]
  },
  {
   "cell_type": "code",
   "execution_count": 46,
   "metadata": {},
   "outputs": [
    {
     "data": {
      "text/plain": [
       "0"
      ]
     },
     "execution_count": 46,
     "metadata": {},
     "output_type": "execute_result"
    }
   ],
   "source": [
    "temp = \"ztf21abc_4578\"\n",
    "temp.find(\"\")"
   ]
  },
  {
   "cell_type": "code",
   "execution_count": 31,
   "metadata": {},
   "outputs": [],
   "source": [
    "all_spectra=listdir(r\"C:\\Users\\senan\\OneDrive\\Desktop\\Capstone\\ztfcosmoidr\\dr2\\spectra\")"
   ]
  },
  {
   "cell_type": "code",
   "execution_count": 45,
   "metadata": {},
   "outputs": [
    {
     "name": "stdout",
     "output_type": "stream",
     "text": [
      "found\n"
     ]
    }
   ],
   "source": [
    "for i in range(len(all_spectra)):\n",
    "    if all_spectra[i].find('ZTF18aaapivw') == 0:\n",
    "        print(\"found\")\n"
   ]
  },
  {
   "cell_type": "code",
   "execution_count": 2,
   "metadata": {},
   "outputs": [
    {
     "name": "stdout",
     "output_type": "stream",
     "text": [
      "^C\n"
     ]
    }
   ],
   "source": [
    "!conda install -c conda-forge extinction"
   ]
  },
  {
   "cell_type": "code",
   "execution_count": 5,
   "metadata": {},
   "outputs": [
    {
     "ename": "ModuleNotFoundError",
     "evalue": "No module named 'extinction'",
     "output_type": "error",
     "traceback": [
      "\u001b[1;31m---------------------------------------------------------------------------\u001b[0m",
      "\u001b[1;31mModuleNotFoundError\u001b[0m                       Traceback (most recent call last)",
      "Cell \u001b[1;32mIn[5], line 1\u001b[0m\n\u001b[1;32m----> 1\u001b[0m \u001b[38;5;28;01mimport\u001b[39;00m \u001b[38;5;21;01mextinction\u001b[39;00m\n",
      "\u001b[1;31mModuleNotFoundError\u001b[0m: No module named 'extinction'"
     ]
    }
   ],
   "source": [
    "import extinction"
   ]
  },
  {
   "cell_type": "code",
   "execution_count": null,
   "metadata": {},
   "outputs": [],
   "source": []
  }
 ],
 "metadata": {
  "kernelspec": {
   "display_name": "base",
   "language": "python",
   "name": "python3"
  },
  "language_info": {
   "codemirror_mode": {
    "name": "ipython",
    "version": 3
   },
   "file_extension": ".py",
   "mimetype": "text/x-python",
   "name": "python",
   "nbconvert_exporter": "python",
   "pygments_lexer": "ipython3",
   "version": "3.11.5"
  }
 },
 "nbformat": 4,
 "nbformat_minor": 2
}
